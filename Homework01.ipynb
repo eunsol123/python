{
  "nbformat": 4,
  "nbformat_minor": 0,
  "metadata": {
    "colab": {
      "name": "Homework01.ipynb",
      "provenance": [],
      "collapsed_sections": [],
      "authorship_tag": "ABX9TyMV2z64VebL7XOXAWS9XhVH",
      "include_colab_link": true
    },
    "kernelspec": {
      "name": "python3",
      "display_name": "Python 3"
    },
    "language_info": {
      "name": "python"
    }
  },
  "cells": [
    {
      "cell_type": "markdown",
      "metadata": {
        "id": "view-in-github",
        "colab_type": "text"
      },
      "source": [
        "<a href=\"https://colab.research.google.com/github/eunsol123/python/blob/main/Homework01.ipynb\" target=\"_parent\"><img src=\"https://colab.research.google.com/assets/colab-badge.svg\" alt=\"Open In Colab\"/></a>"
      ]
    },
    {
      "cell_type": "code",
      "execution_count": 1,
      "metadata": {
        "colab": {
          "base_uri": "https://localhost:8080/"
        },
        "id": "SI577eJR2Qbl",
        "outputId": "b63f881b-164a-4951-8081-c0043a011547"
      },
      "outputs": [
        {
          "output_type": "stream",
          "name": "stdout",
          "text": [
            "Hello World\n"
          ]
        }
      ],
      "source": [
        "print('Hello World')"
      ]
    },
    {
      "cell_type": "code",
      "source": [
        "print(\"Mary's cosmetics\")"
      ],
      "metadata": {
        "colab": {
          "base_uri": "https://localhost:8080/"
        },
        "id": "N5uGZ_xf3iXQ",
        "outputId": "7ed7a81b-f1cb-4eb4-f109-7c7453f39ffa"
      },
      "execution_count": 2,
      "outputs": [
        {
          "output_type": "stream",
          "name": "stdout",
          "text": [
            "Mary's cosmetics\n"
          ]
        }
      ]
    },
    {
      "cell_type": "code",
      "source": [
        "print('신시가 소리질렀다. \"도둑이야\".')"
      ],
      "metadata": {
        "colab": {
          "base_uri": "https://localhost:8080/"
        },
        "id": "1gefSonw3nWy",
        "outputId": "5850f1a8-f8fe-4a24-b7e2-a5ad37e41da3"
      },
      "execution_count": 3,
      "outputs": [
        {
          "output_type": "stream",
          "name": "stdout",
          "text": [
            "신시가 소리질렀다. \"도둑이야\".\n"
          ]
        }
      ]
    },
    {
      "cell_type": "code",
      "source": [
        "print('\"C:\\Windows\"')"
      ],
      "metadata": {
        "colab": {
          "base_uri": "https://localhost:8080/"
        },
        "id": "pQ1RM4AC3ut3",
        "outputId": "43412907-4cbb-4c4d-f167-08998ce2cf1d"
      },
      "execution_count": 4,
      "outputs": [
        {
          "output_type": "stream",
          "name": "stdout",
          "text": [
            "\"C:\\Windows\"\n"
          ]
        }
      ]
    },
    {
      "cell_type": "code",
      "source": [
        "print(\"안녕하세요.\\n 만나서\\t\\t 반갑습니다.\")\n",
        "\n",
        "# \\n : 한줄 띄기\n",
        "# \\t : 탭 간격 띄기"
      ],
      "metadata": {
        "colab": {
          "base_uri": "https://localhost:8080/"
        },
        "id": "4O-6dn7U36f3",
        "outputId": "848f58e4-00bd-4165-b2ac-5eebc4643b42"
      },
      "execution_count": 5,
      "outputs": [
        {
          "output_type": "stream",
          "name": "stdout",
          "text": [
            "안녕하세요.\n",
            " 만나서\t\t 반갑습니다.\n"
          ]
        }
      ]
    },
    {
      "cell_type": "code",
      "source": [
        "print (\"오늘은\", \"일요일\")\n",
        "\n",
        "# 오늘은 일요일"
      ],
      "metadata": {
        "id": "HtfY7ddI4NtH"
      },
      "execution_count": null,
      "outputs": []
    },
    {
      "cell_type": "code",
      "source": [
        "print(\"naver\", \"kakao\", \"samsung\", sep=\";\")"
      ],
      "metadata": {
        "colab": {
          "base_uri": "https://localhost:8080/"
        },
        "id": "aApQTCgh4RUg",
        "outputId": "39e292e7-13c6-45bd-cec5-4cdf5c6d1977"
      },
      "execution_count": 11,
      "outputs": [
        {
          "output_type": "stream",
          "name": "stdout",
          "text": [
            "naver;kakao;samsung\n"
          ]
        }
      ]
    },
    {
      "cell_type": "code",
      "source": [
        "print(\"naver\", \"kakao\", \"samsung\", sep=\"/\")"
      ],
      "metadata": {
        "colab": {
          "base_uri": "https://localhost:8080/"
        },
        "id": "BQnDz6cP4Za4",
        "outputId": "33e4f54c-e7b6-41e7-b512-72b9871093b9"
      },
      "execution_count": 10,
      "outputs": [
        {
          "output_type": "stream",
          "name": "stdout",
          "text": [
            "naver/kakao/samsung\n"
          ]
        }
      ]
    },
    {
      "cell_type": "code",
      "source": [
        "print(\"first\", end=\"\"); print(\"second\")"
      ],
      "metadata": {
        "colab": {
          "base_uri": "https://localhost:8080/"
        },
        "id": "4BtdIFau4chn",
        "outputId": "489dcb80-86d3-4739-cda9-90fea910adbc"
      },
      "execution_count": 12,
      "outputs": [
        {
          "output_type": "stream",
          "name": "stdout",
          "text": [
            "firstsecond\n"
          ]
        }
      ]
    },
    {
      "cell_type": "code",
      "source": [
        "print(5/3)"
      ],
      "metadata": {
        "colab": {
          "base_uri": "https://localhost:8080/"
        },
        "id": "b06wxywA5BnO",
        "outputId": "7c29cb27-fe76-407b-a341-dd0d2989af42"
      },
      "execution_count": 13,
      "outputs": [
        {
          "output_type": "stream",
          "name": "stdout",
          "text": [
            "1.6666666666666667\n"
          ]
        }
      ]
    },
    {
      "cell_type": "code",
      "source": [
        "삼성전자 = 50000\n",
        "총평가금액 = 삼성전자 * 10\n",
        "\n",
        "print(총평가금액)"
      ],
      "metadata": {
        "colab": {
          "base_uri": "https://localhost:8080/"
        },
        "id": "VToQpQX95a2Q",
        "outputId": "c1c8ea76-23e1-4ed8-c8be-864f0e3bdb56"
      },
      "execution_count": 14,
      "outputs": [
        {
          "output_type": "stream",
          "name": "stdout",
          "text": [
            "500000\n"
          ]
        }
      ]
    },
    {
      "cell_type": "code",
      "source": [
        "시가총액 = 298000000000000\n",
        "현재가 = 50000\n",
        "PER = 15.79\n",
        "\n",
        "print(시가총액, type(시가총액))\n",
        "print(현재가, type(현재가))\n",
        "print(PER, type(PER))"
      ],
      "metadata": {
        "colab": {
          "base_uri": "https://localhost:8080/"
        },
        "id": "ksxIxQhk5gS9",
        "outputId": "55c080a0-d6b4-4cc9-ed7d-cad4294c230d"
      },
      "execution_count": 18,
      "outputs": [
        {
          "output_type": "stream",
          "name": "stdout",
          "text": [
            "298000000000000 <class 'int'>\n",
            "50000 <class 'int'>\n",
            "15.79 <class 'float'>\n"
          ]
        }
      ]
    },
    {
      "cell_type": "code",
      "source": [
        "s = \"hello\"\n",
        "t = \"python\"\n",
        "print(s+\"!\", t)"
      ],
      "metadata": {
        "colab": {
          "base_uri": "https://localhost:8080/"
        },
        "id": "LZxM-Jr95qRS",
        "outputId": "152e0425-c5de-44eb-a923-a6a4a1119209"
      },
      "execution_count": 17,
      "outputs": [
        {
          "output_type": "stream",
          "name": "stdout",
          "text": [
            "hello! python\n"
          ]
        }
      ]
    },
    {
      "cell_type": "code",
      "source": [
        "print(2 + 2 * 3 )\n",
        "\n",
        "# 8"
      ],
      "metadata": {
        "id": "ubVwDN4x5x1q"
      },
      "execution_count": null,
      "outputs": []
    },
    {
      "cell_type": "code",
      "source": [
        "a = \"132\"\n",
        "print(type(a))"
      ],
      "metadata": {
        "colab": {
          "base_uri": "https://localhost:8080/"
        },
        "id": "gSpwwssx5x7S",
        "outputId": "c1268bab-ade9-476e-cbd8-3dcc21ed8fe8"
      },
      "execution_count": 19,
      "outputs": [
        {
          "output_type": "stream",
          "name": "stdout",
          "text": [
            "<class 'str'>\n"
          ]
        }
      ]
    },
    {
      "cell_type": "code",
      "source": [
        "num = \"720\"\n",
        "print(num, type(num))\n",
        "\n",
        "# 형변환\n",
        "num = int(num)\n",
        "print(num, type(num))\n"
      ],
      "metadata": {
        "colab": {
          "base_uri": "https://localhost:8080/"
        },
        "id": "m4r6e46b6R0t",
        "outputId": "dcac0546-d36e-47df-c9be-dab3f9bc1a34"
      },
      "execution_count": 24,
      "outputs": [
        {
          "output_type": "stream",
          "name": "stdout",
          "text": [
            "720 <class 'str'>\n",
            "720 <class 'int'>\n"
          ]
        }
      ]
    },
    {
      "cell_type": "code",
      "source": [
        "num = 100\n",
        "print(num, type(num))\n",
        "\n",
        "# 형변환\n",
        "num = str(num)\n",
        "print(num, type(num))"
      ],
      "metadata": {
        "colab": {
          "base_uri": "https://localhost:8080/"
        },
        "id": "SqGfzCVj6y_A",
        "outputId": "575b61ab-b3ce-44bf-c208-e0685fd0f235"
      },
      "execution_count": 23,
      "outputs": [
        {
          "output_type": "stream",
          "name": "stdout",
          "text": [
            "100 <class 'int'>\n",
            "100 <class 'str'>\n"
          ]
        }
      ]
    },
    {
      "cell_type": "code",
      "source": [
        "num = '15.79'\n",
        "print(num, type(num))\n",
        "\n",
        "# 형변환\n",
        "num = float(num)\n",
        "print(num, type(num))"
      ],
      "metadata": {
        "colab": {
          "base_uri": "https://localhost:8080/"
        },
        "id": "S3C4oN8Z7kO4",
        "outputId": "c0133674-2aab-4b81-bbb0-fb6272bc7251"
      },
      "execution_count": 26,
      "outputs": [
        {
          "output_type": "stream",
          "name": "stdout",
          "text": [
            "15.79 <class 'str'>\n",
            "15.79 <class 'float'>\n"
          ]
        }
      ]
    },
    {
      "cell_type": "code",
      "source": [
        "year = \"2020\"\n",
        "print(year,type(year))\n",
        "\n",
        "# 형변환\n",
        "year = int(year)\n",
        "print(year,type(year))"
      ],
      "metadata": {
        "colab": {
          "base_uri": "https://localhost:8080/"
        },
        "id": "7Usn4qrb88UI",
        "outputId": "1d210198-b235-4cad-910d-68766e714c31"
      },
      "execution_count": 27,
      "outputs": [
        {
          "output_type": "stream",
          "name": "stdout",
          "text": [
            "2020 <class 'str'>\n",
            "2020 <class 'int'>\n"
          ]
        }
      ]
    },
    {
      "cell_type": "code",
      "source": [
        "월 = 48584\n",
        "총금액 = 월 * 36\n",
        "print(총금액)"
      ],
      "metadata": {
        "colab": {
          "base_uri": "https://localhost:8080/"
        },
        "id": "G1l4GOaE9STM",
        "outputId": "cb76db73-1f67-4317-da11-c1d35c0646f4"
      },
      "execution_count": 28,
      "outputs": [
        {
          "output_type": "stream",
          "name": "stdout",
          "text": [
            "1749024\n"
          ]
        }
      ]
    }
  ]
}