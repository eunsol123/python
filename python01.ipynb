{
  "nbformat": 4,
  "nbformat_minor": 0,
  "metadata": {
    "colab": {
      "name": "python01.ipynb",
      "provenance": [],
      "authorship_tag": "ABX9TyOqs4AILVC7QxEIKVsLZ44G",
      "include_colab_link": true
    },
    "kernelspec": {
      "name": "python3",
      "display_name": "Python 3"
    },
    "language_info": {
      "name": "python"
    }
  },
  "cells": [
    {
      "cell_type": "markdown",
      "metadata": {
        "id": "view-in-github",
        "colab_type": "text"
      },
      "source": [
        "<a href=\"https://colab.research.google.com/github/eunsol123/python/blob/main/python01.ipynb\" target=\"_parent\"><img src=\"https://colab.research.google.com/assets/colab-badge.svg\" alt=\"Open In Colab\"/></a>"
      ]
    },
    {
      "cell_type": "code",
      "execution_count": 2,
      "metadata": {
        "colab": {
          "base_uri": "https://localhost:8080/"
        },
        "id": "_DwlS9WRc0_q",
        "outputId": "c3522fe7-07d9-48a2-957f-39368d101c1d"
      },
      "outputs": [
        {
          "output_type": "stream",
          "name": "stdout",
          "text": [
            "Hello world\n"
          ]
        }
      ],
      "source": [
        "print(\"Hello world\")"
      ]
    },
    {
      "cell_type": "code",
      "source": [
        "# 파이썬 이란\n",
        "# 인터프리터 언어이다. (한줄 한줄 실행한 결과를 바로바로 볼 수 있다.)\n",
        "# 플랫폼에 독립적이다. (맥, 윈도우, 리눅스 전부 같은 파이썬 코드를 사용할 수 있다.)\n",
        "# 객체지향 언어이다. (객체를 기반으로 정보은닉, 상속 등등의 개념을 지원한다.)\n",
        "# 동적 타이핑 언어이다. (실핼중에 처리할수 있는 작업을 동적 작업이라고 하고, 파이썬을 지원한다.)\n",
        "# 개발 속도가 빠르다. (이미 만들어 놓은 다양한 라이브러리를 사용하여 빠르게 새로운 프로그램을 개발할 수 있다.)\n"
      ],
      "metadata": {
        "id": "OViHu6zVgPP4"
      },
      "execution_count": null,
      "outputs": []
    }
  ]
}