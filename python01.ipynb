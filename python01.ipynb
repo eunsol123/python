{
  "nbformat": 4,
  "nbformat_minor": 0,
  "metadata": {
    "colab": {
      "name": "python01.ipynb",
      "provenance": [],
      "collapsed_sections": [],
      "authorship_tag": "ABX9TyOyCokCKxLeNIHD/QK1g0yT",
      "include_colab_link": true
    },
    "kernelspec": {
      "name": "python3",
      "display_name": "Python 3"
    },
    "language_info": {
      "name": "python"
    }
  },
  "cells": [
    {
      "cell_type": "markdown",
      "metadata": {
        "id": "view-in-github",
        "colab_type": "text"
      },
      "source": [
        "<a href=\"https://colab.research.google.com/github/eunsol123/python/blob/main/python01.ipynb\" target=\"_parent\"><img src=\"https://colab.research.google.com/assets/colab-badge.svg\" alt=\"Open In Colab\"/></a>"
      ]
    },
    {
      "cell_type": "code",
      "execution_count": 2,
      "metadata": {
        "colab": {
          "base_uri": "https://localhost:8080/"
        },
        "id": "_DwlS9WRc0_q",
        "outputId": "c3522fe7-07d9-48a2-957f-39368d101c1d"
      },
      "outputs": [
        {
          "output_type": "stream",
          "name": "stdout",
          "text": [
            "Hello world\n"
          ]
        }
      ],
      "source": [
        "print(\"Hello world\")"
      ]
    },
    {
      "cell_type": "code",
      "source": [
        "# 파이썬 이란\n",
        "# 인터프리터 언어이다. (한줄 한줄 실행한 결과를 바로바로 볼 수 있다.)\n",
        "# 플랫폼에 독립적이다. (맥, 윈도우, 리눅스 전부 같은 파이썬 코드를 사용할 수 있다.)\n",
        "# 객체지향 언어이다. (객체를 기반으로 정보은닉, 상속 등등의 개념을 지원한다.)\n",
        "# 동적 타이핑 언어이다. (실핼중에 처리할수 있는 작업을 동적 작업이라고 하고, 파이썬을 지원한다.)\n",
        "# 개발 속도가 빠르다. (이미 만들어 놓은 다양한 라이브러리를 사용하여 빠르게 새로운 프로그램을 개발할 수 있다.)\n"
      ],
      "metadata": {
        "id": "OViHu6zVgPP4"
      },
      "execution_count": null,
      "outputs": []
    },
    {
      "cell_type": "code",
      "source": [
        "# 주석 comment (ctr + /)\n",
        "# 프로그램의 소스코드에 설명을 작성하는 부분을 주석이라고 한다.\n",
        "# docstring (''' 코드 설명 ''') : 여러줄을 통째로 주석처리 할때 사용"
      ],
      "metadata": {
        "id": "kF6RUzoemHBf"
      },
      "execution_count": null,
      "outputs": []
    },
    {
      "cell_type": "code",
      "source": [
        "'''\n",
        "파일명 Ex02*-1.py\n",
        "개요 : 반지름을 전달하면 원의 넓이를 반환하는 get_area()\n",
        "작성자 : 조은솔\n",
        "최초 작성일 : 2022.04.13\n",
        "'''\n",
        "#math 모듈 포함\n",
        "import math\n",
        "# get_area() 함수의 정의\n",
        "\n",
        "\n",
        "def get_area(radius):\n",
        "  \"\"\"반지름을 입력 받아 원의 넓이를 변환하는 get_area() 함수\"\"\"\n",
        "  area = math.pi*math.pow(radius,2)\n",
        "  return area\n",
        "radius = 1.5\n",
        "#get_area() 함수 호출 결과를 area변수에 저장\n",
        "area = get_area(radius)\n",
        "print(area)\n",
        "print(get_area.__doc__) # Docstring 확인"
      ],
      "metadata": {
        "colab": {
          "base_uri": "https://localhost:8080/"
        },
        "id": "kKnuAbdbo866",
        "outputId": "1ea9b738-6397-4f53-924a-e7619973a7d3"
      },
      "execution_count": 13,
      "outputs": [
        {
          "output_type": "stream",
          "name": "stdout",
          "text": [
            "7.0685834705770345\n",
            "반지름을 입력 받아 원의 넓이를 변환하는 get_area() 함수\n"
          ]
        }
      ]
    },
    {
      "cell_type": "code",
      "source": [
        "# 변수\n",
        "# 어떤 데이터를 저장할때 사용하는 메모리 저장소 이다.\n",
        "# 영문, 한글, 숫자, 밑줄로 구성된다.\n",
        "# 특수문자는 사용할 수 없다.\n",
        "# 대소문자와 소문자를 구분한다.\n",
        "# 변수명의 첫글자에는 숫자가 올 수 없다.\n",
        "# 예약어, 키워드는 변수명을 사용할 수 없다.\n",
        "# 권장) 가급적이면 소문자로만 만들자\n",
        "# 권장) 한글 변수명은 가능하지만 사용하지 말자\n",
        "# 권장) 변수명에 의미를 담자\n"
      ],
      "metadata": {
        "id": "Mx8YgemGsIdS"
      },
      "execution_count": 11,
      "outputs": []
    },
    {
      "cell_type": "code",
      "source": [
        "name = 'Alice'\n",
        "age = 25\n",
        "address = '''우편번호 12345\n",
        "서울시 영등포구 여의도동\n",
        "서울빌딩 501호'''\n",
        "boyfrind = None\n",
        "height = 165.5\n",
        "\n",
        "print(name)\n",
        "print(age)\n",
        "print(address)\n",
        "print(boyfrind)\n",
        "print(height)"
      ],
      "metadata": {
        "colab": {
          "base_uri": "https://localhost:8080/"
        },
        "id": "BvDkKJ-tuvEj",
        "outputId": "b37af45e-ea16-40f7-e584-da489aa77cde"
      },
      "execution_count": 15,
      "outputs": [
        {
          "output_type": "stream",
          "name": "stdout",
          "text": [
            "Alice\n",
            "25\n",
            "우편번호 12345\n",
            "서울시 영등포구 여의도동\n",
            "서울빌딩 501호\n",
            "None\n",
            "165.5\n"
          ]
        }
      ]
    },
    {
      "cell_type": "code",
      "source": [
        "# 기본 자료형 (data type)\n",
        "\n",
        "a = 3\n",
        "print(a)\n",
        "a = 3.14\n",
        "print(a)\n",
        "a = '한글사랑'\n",
        "print(a)"
      ],
      "metadata": {
        "colab": {
          "base_uri": "https://localhost:8080/"
        },
        "id": "5Q1SWipFwYzB",
        "outputId": "e34a3316-6552-450d-e7e4-3c0a3dc041a0"
      },
      "execution_count": 18,
      "outputs": [
        {
          "output_type": "stream",
          "name": "stdout",
          "text": [
            "3\n",
            "3.14\n",
            "한글사랑\n"
          ]
        }
      ]
    },
    {
      "cell_type": "code",
      "source": [
        "int(1.9)"
      ],
      "metadata": {
        "colab": {
          "base_uri": "https://localhost:8080/"
        },
        "id": "SGQfmLRMz9zf",
        "outputId": "d6cde098-6a9a-4bdf-90f0-f7b006fbfe18"
      },
      "execution_count": 28,
      "outputs": [
        {
          "output_type": "execute_result",
          "data": {
            "text/plain": [
              "1"
            ]
          },
          "metadata": {},
          "execution_count": 28
        }
      ]
    },
    {
      "cell_type": "code",
      "source": [
        "int('100') # 강제 형변환"
      ],
      "metadata": {
        "colab": {
          "base_uri": "https://localhost:8080/"
        },
        "id": "2sWsObOU07VW",
        "outputId": "e5dc7250-59b1-451e-a905-1f79b2a807a1"
      },
      "execution_count": 29,
      "outputs": [
        {
          "output_type": "execute_result",
          "data": {
            "text/plain": [
              "100"
            ]
          },
          "metadata": {},
          "execution_count": 29
        }
      ]
    },
    {
      "cell_type": "code",
      "source": [
        "int(True)"
      ],
      "metadata": {
        "colab": {
          "base_uri": "https://localhost:8080/"
        },
        "id": "hO-HuzA608P1",
        "outputId": "901e6399-505d-493c-f669-f9ab9610e1cf"
      },
      "execution_count": 30,
      "outputs": [
        {
          "output_type": "execute_result",
          "data": {
            "text/plain": [
              "1"
            ]
          },
          "metadata": {},
          "execution_count": 30
        }
      ]
    },
    {
      "cell_type": "code",
      "source": [
        "int(False)"
      ],
      "metadata": {
        "colab": {
          "base_uri": "https://localhost:8080/"
        },
        "id": "Gny1srLx1AjP",
        "outputId": "f05d349c-3c8a-4237-baf6-9038a9cc008f"
      },
      "execution_count": 31,
      "outputs": [
        {
          "output_type": "execute_result",
          "data": {
            "text/plain": [
              "0"
            ]
          },
          "metadata": {},
          "execution_count": 31
        }
      ]
    },
    {
      "cell_type": "code",
      "source": [
        ""
      ],
      "metadata": {
        "id": "MVa5RClj1E6u"
      },
      "execution_count": null,
      "outputs": []
    },
    {
      "cell_type": "code",
      "source": [
        "# 실수 (float)\n",
        "float(1)"
      ],
      "metadata": {
        "colab": {
          "base_uri": "https://localhost:8080/"
        },
        "id": "EuJXsEdC0iWa",
        "outputId": "b5f040d2-a18e-4c36-887e-de9b961b3f9c"
      },
      "execution_count": 25,
      "outputs": [
        {
          "output_type": "execute_result",
          "data": {
            "text/plain": [
              "1.0"
            ]
          },
          "metadata": {},
          "execution_count": 25
        }
      ]
    },
    {
      "cell_type": "code",
      "source": [
        "float(True)"
      ],
      "metadata": {
        "colab": {
          "base_uri": "https://localhost:8080/"
        },
        "id": "Vg9Ulhhw0sNS",
        "outputId": "c44d6e1b-3115-4143-8ad8-759bcf0f163a"
      },
      "execution_count": 26,
      "outputs": [
        {
          "output_type": "execute_result",
          "data": {
            "text/plain": [
              "1.0"
            ]
          },
          "metadata": {},
          "execution_count": 26
        }
      ]
    },
    {
      "cell_type": "code",
      "source": [
        "float(False)"
      ],
      "metadata": {
        "colab": {
          "base_uri": "https://localhost:8080/"
        },
        "id": "1n5kQ99i0w_t",
        "outputId": "239a1c7f-9ba3-4176-d01d-4127d9d971f3"
      },
      "execution_count": 27,
      "outputs": [
        {
          "output_type": "execute_result",
          "data": {
            "text/plain": [
              "0.0"
            ]
          },
          "metadata": {},
          "execution_count": 27
        }
      ]
    },
    {
      "cell_type": "code",
      "source": [
        "bool(1)"
      ],
      "metadata": {
        "colab": {
          "base_uri": "https://localhost:8080/"
        },
        "id": "52eTfIsA1Hy6",
        "outputId": "e48ff1cd-1df3-459f-831d-22cf8c088abd"
      },
      "execution_count": 33,
      "outputs": [
        {
          "output_type": "execute_result",
          "data": {
            "text/plain": [
              "True"
            ]
          },
          "metadata": {},
          "execution_count": 33
        }
      ]
    },
    {
      "cell_type": "code",
      "source": [
        "bool(0)"
      ],
      "metadata": {
        "colab": {
          "base_uri": "https://localhost:8080/"
        },
        "id": "6mHYk5W41PLZ",
        "outputId": "96e272cb-dda7-472b-89d9-713b99f4234e"
      },
      "execution_count": 34,
      "outputs": [
        {
          "output_type": "execute_result",
          "data": {
            "text/plain": [
              "False"
            ]
          },
          "metadata": {},
          "execution_count": 34
        }
      ]
    },
    {
      "cell_type": "code",
      "source": [
        "# 문자열 str\n",
        "str(100)"
      ],
      "metadata": {
        "colab": {
          "base_uri": "https://localhost:8080/",
          "height": 35
        },
        "id": "kNun1mMn1RON",
        "outputId": "6a9acd53-16e3-413c-b674-bf5f3b04bbf1"
      },
      "execution_count": 35,
      "outputs": [
        {
          "output_type": "execute_result",
          "data": {
            "text/plain": [
              "'100'"
            ],
            "application/vnd.google.colaboratory.intrinsic+json": {
              "type": "string"
            }
          },
          "metadata": {},
          "execution_count": 35
        }
      ]
    },
    {
      "cell_type": "code",
      "source": [
        "str(True)"
      ],
      "metadata": {
        "colab": {
          "base_uri": "https://localhost:8080/",
          "height": 35
        },
        "id": "GPkc8evw1c_b",
        "outputId": "df4c5fb7-ab90-4656-efa8-7a8d23ff0c51"
      },
      "execution_count": 38,
      "outputs": [
        {
          "output_type": "execute_result",
          "data": {
            "text/plain": [
              "'True'"
            ],
            "application/vnd.google.colaboratory.intrinsic+json": {
              "type": "string"
            }
          },
          "metadata": {},
          "execution_count": 38
        }
      ]
    },
    {
      "cell_type": "code",
      "source": [
        "str(3.14)"
      ],
      "metadata": {
        "colab": {
          "base_uri": "https://localhost:8080/",
          "height": 35
        },
        "id": "WcyAJ59o1gml",
        "outputId": "e0e1caec-8545-40a5-d445-5727660206e5"
      },
      "execution_count": 37,
      "outputs": [
        {
          "output_type": "execute_result",
          "data": {
            "text/plain": [
              "'3.14'"
            ],
            "application/vnd.google.colaboratory.intrinsic+json": {
              "type": "string"
            }
          },
          "metadata": {},
          "execution_count": 37
        }
      ]
    },
    {
      "cell_type": "code",
      "source": [
        "# 인덱싱 : 몇번째 한글자\n",
        "\n",
        "s = 'Hello'\n",
        "s[0]\n",
        "\n",
        "# H e l l o\n",
        "# 0 1 2 3 4 번째\n",
        "# -5  -4  -3  -2  -1 번째 (반대로)"
      ],
      "metadata": {
        "colab": {
          "base_uri": "https://localhost:8080/",
          "height": 35
        },
        "id": "Wciqyxfy1sRA",
        "outputId": "547668a3-3413-49d1-c409-f761e6ca79e0"
      },
      "execution_count": 39,
      "outputs": [
        {
          "output_type": "execute_result",
          "data": {
            "text/plain": [
              "'H'"
            ],
            "application/vnd.google.colaboratory.intrinsic+json": {
              "type": "string"
            }
          },
          "metadata": {},
          "execution_count": 39
        }
      ]
    },
    {
      "cell_type": "code",
      "source": [
        "s[-5]"
      ],
      "metadata": {
        "colab": {
          "base_uri": "https://localhost:8080/",
          "height": 35
        },
        "id": "6Zvk-OiN2ixA",
        "outputId": "e8590111-a110-41a5-861f-2987757fe248"
      },
      "execution_count": 43,
      "outputs": [
        {
          "output_type": "execute_result",
          "data": {
            "text/plain": [
              "'H'"
            ],
            "application/vnd.google.colaboratory.intrinsic+json": {
              "type": "string"
            }
          },
          "metadata": {},
          "execution_count": 43
        }
      ]
    },
    {
      "cell_type": "code",
      "source": [
        "# 슬라이싱 : 몇번째 부터 몇번째 여러글자\n",
        "\n",
        "s = 'Hello'\n",
        "s[0:2] #[시작:끝 (미만)]\n",
        "s[0:] # 끝을 생략하면 끝까지\n",
        "s[:-1] # 시작을 생략면 처음부터"
      ],
      "metadata": {
        "colab": {
          "base_uri": "https://localhost:8080/",
          "height": 35
        },
        "id": "nWIvh89n3fzy",
        "outputId": "c64ea551-afbc-476d-8d76-6ba4f57e6072"
      },
      "execution_count": 48,
      "outputs": [
        {
          "output_type": "execute_result",
          "data": {
            "text/plain": [
              "'Hell'"
            ],
            "application/vnd.google.colaboratory.intrinsic+json": {
              "type": "string"
            }
          },
          "metadata": {},
          "execution_count": 48
        }
      ]
    }
  ]
}