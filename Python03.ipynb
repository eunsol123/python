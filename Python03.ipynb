{
  "nbformat": 4,
  "nbformat_minor": 0,
  "metadata": {
    "colab": {
      "name": "Python03.ipynb",
      "provenance": [],
      "collapsed_sections": [],
      "authorship_tag": "ABX9TyO1qxbX8o7cSy/EAzO25W54",
      "include_colab_link": true
    },
    "kernelspec": {
      "name": "python3",
      "display_name": "Python 3"
    },
    "language_info": {
      "name": "python"
    }
  },
  "cells": [
    {
      "cell_type": "markdown",
      "metadata": {
        "id": "view-in-github",
        "colab_type": "text"
      },
      "source": [
        "<a href=\"https://colab.research.google.com/github/eunsol123/python/blob/main/Python03.ipynb\" target=\"_parent\"><img src=\"https://colab.research.google.com/assets/colab-badge.svg\" alt=\"Open In Colab\"/></a>"
      ]
    },
    {
      "cell_type": "code",
      "execution_count": null,
      "metadata": {
        "colab": {
          "base_uri": "https://localhost:8080/"
        },
        "id": "D84JUy77KaNW",
        "outputId": "f02c8da3-4f8d-45cb-d263-22fb630874d3"
      },
      "outputs": [
        {
          "output_type": "stream",
          "name": "stdout",
          "text": [
            "이름을 입력 하세요 :은솔\n",
            "나이를 입력 하세요 :22\n",
            "입력된 이름은 은솔 이고, 나이는 22 입니다.\n"
          ]
        }
      ],
      "source": [
        "name = input('이름을 입력 하세요 :')\n",
        "age = input('나이를 입력 하세요 :')\n",
        "\n",
        "print(f'입력된 이름은 {name} 이고, 나이는 {age} 입니다.')"
      ]
    },
    {
      "cell_type": "code",
      "source": [
        "n = input('정수를 입력하세요 :')\n",
        "print(type(n))"
      ],
      "metadata": {
        "colab": {
          "base_uri": "https://localhost:8080/"
        },
        "id": "B0yS31_OK9W4",
        "outputId": "f01cf59f-aebb-4c7f-db2c-f2f9dc817948"
      },
      "execution_count": null,
      "outputs": [
        {
          "output_type": "stream",
          "name": "stdout",
          "text": [
            "정수를 입력하세요 :g\n",
            "<class 'str'>\n"
          ]
        }
      ]
    },
    {
      "cell_type": "code",
      "source": [
        "price = 5000\n",
        "n = int(input('할부 개월 입력 :'))\n",
        "\n",
        "print(f'매달 내는 돈은 {price/n} 원 입니다.')"
      ],
      "metadata": {
        "colab": {
          "base_uri": "https://localhost:8080/"
        },
        "id": "kKsyvc9vLPT9",
        "outputId": "668b66a1-7f5b-4851-b0d1-2e084060cf1f"
      },
      "execution_count": null,
      "outputs": [
        {
          "output_type": "stream",
          "name": "stdout",
          "text": [
            "할부 개월 입력 :5\n",
            "매달 내는 돈은 1000.0 원 입니다.\n"
          ]
        }
      ]
    },
    {
      "cell_type": "code",
      "source": [
        ""
      ],
      "metadata": {
        "id": "6u-uO8saL-qj"
      },
      "execution_count": null,
      "outputs": []
    },
    {
      "cell_type": "code",
      "source": [
        "n1 = float(input('첫 번째 실수를 입력하세요 :'))\n",
        "n2 = float(input('두 번째 실수를 입력하세요 :'))\n",
        "\n",
        "print(f'{n1}와 {n2}의 합은 {n1+n2} 입니다.')\n"
      ],
      "metadata": {
        "colab": {
          "base_uri": "https://localhost:8080/"
        },
        "id": "tOq-5DM2MMVG",
        "outputId": "594133a9-557c-4ad0-cf5c-c7d155c68a61"
      },
      "execution_count": null,
      "outputs": [
        {
          "output_type": "stream",
          "name": "stdout",
          "text": [
            "첫 번째 실수를 입력하세요 :1.23\n",
            "두 번째 실수를 입력하세요 :2.34\n",
            "1.23와 2.34의 합은 3.57 입니다.\n"
          ]
        }
      ]
    },
    {
      "cell_type": "code",
      "source": [
        "month = [31,28,31,30,31,30,31,31,30,31,30,31]\n",
        "\n",
        "ask = int(input('1~12월 사이의 월을 입력하세요 :'))\n",
        "print(f'{ask}월은 {month[ask-1]}일 까지 있습니다.')\n"
      ],
      "metadata": {
        "colab": {
          "base_uri": "https://localhost:8080/"
        },
        "id": "OM1buJmgM_kI",
        "outputId": "95d14076-7436-4abe-e6a9-c0d36933c73a"
      },
      "execution_count": null,
      "outputs": [
        {
          "output_type": "stream",
          "name": "stdout",
          "text": [
            "1~12월 사이의 월을 입력하세요 :12\n",
            "12월은 31일 까지 있습니다.\n"
          ]
        }
      ]
    },
    {
      "cell_type": "code",
      "source": [
        "english_dict = {\n",
        "    'flower':'꽃',\n",
        "    'fly':'날다',\n",
        "    'floor':'바닥'\n",
        "}\n",
        "str = input('영어 단어를 입력 하세요 :')\n",
        "\n",
        "print(f'{str} : {english_dict[str]}')\n"
      ],
      "metadata": {
        "colab": {
          "base_uri": "https://localhost:8080/"
        },
        "id": "KfXIbxrdQLlV",
        "outputId": "cd51717e-fa42-4356-c6c6-f0d84f839a56"
      },
      "execution_count": null,
      "outputs": [
        {
          "output_type": "stream",
          "name": "stdout",
          "text": [
            "영어 단어를 입력 하세요 :fly\n",
            "fly : 날다\n"
          ]
        }
      ]
    },
    {
      "cell_type": "code",
      "source": [
        "s = set()\n",
        "\n",
        "hope = input('희망하는 수학여행지를 입력하세요:')\n",
        "s.add(hope)\n",
        "hope = input('희망하는 수학여행지를 입력하세요:')\n",
        "s.add(hope)\n",
        "hope = input('희망하는 수학여행지를 입력하세요:')\n",
        "s.add(hope)\n",
        "\n",
        "print(f'조사된 수학여행지는 {s} 입니다.')\n",
        "\n"
      ],
      "metadata": {
        "colab": {
          "base_uri": "https://localhost:8080/"
        },
        "id": "3ko5pQDESA8w",
        "outputId": "60f4d430-5183-47b3-bd14-d784c1d4eb8c"
      },
      "execution_count": null,
      "outputs": [
        {
          "output_type": "stream",
          "name": "stdout",
          "text": [
            "희망하는 수학여행지를 입력하세요:\n",
            "제주\n",
            "희망하는 수학여행지를 입력하세요:\n",
            "제주\n",
            "희망하는 수학여행지를 입력하세요:위도\n",
            "조사된 수학여행지는 {'제주', '위도'} 입니다.\n"
          ]
        }
      ]
    },
    {
      "cell_type": "code",
      "source": [
        "a = 7\n",
        "b = 2\n",
        "print(f'{a} + {b} = {a+b}')\n",
        "print(f'{a} - {b} = {a-b}')\n",
        "print(f'{a} * {b} = {a*b}')\n",
        "print(f'{a} ** {b} = {a**b}')\n",
        "print(f'{a} / {b} = {a/b}')\n",
        "print(f'{a} // {b} = {a//b}')\n",
        "print(f'{a} % {b} = {a%b}')\n"
      ],
      "metadata": {
        "colab": {
          "base_uri": "https://localhost:8080/"
        },
        "id": "AhXNngaxVLCU",
        "outputId": "72c51c07-de8a-476e-8dde-86daa6c6d50b"
      },
      "execution_count": null,
      "outputs": [
        {
          "output_type": "stream",
          "name": "stdout",
          "text": [
            "7 + 2 = 9\n",
            "7 - 2 = 5\n",
            "7 * 2 = 14\n",
            "7 ** 2 = 49\n",
            "7 / 2 = 3.5\n",
            "7 // 2 = 3\n",
            "7 % 2 = 1\n"
          ]
        }
      ]
    },
    {
      "cell_type": "code",
      "source": [
        "a,b = 10,20\n",
        "\n",
        "print(f'a = {a}, b = {b}')\n",
        "\n",
        "a,b = b,a\n",
        "print(f'a = {a}, b = {b}')"
      ],
      "metadata": {
        "colab": {
          "base_uri": "https://localhost:8080/"
        },
        "id": "hdybiqncXAXf",
        "outputId": "95f9865a-fa28-4618-cd72-872504c37ad0"
      },
      "execution_count": null,
      "outputs": [
        {
          "output_type": "stream",
          "name": "stdout",
          "text": [
            "a = 10, b = 20\n",
            "a = 20, b = 10\n"
          ]
        }
      ]
    },
    {
      "cell_type": "code",
      "source": [
        "a = 1\n",
        "print(a)\n",
        "a = a+1\n",
        "print(a)\n",
        "a += 1\n",
        "print(a)\n",
        "\n",
        "a -= 1 # a-1\n",
        "print(a)"
      ],
      "metadata": {
        "colab": {
          "base_uri": "https://localhost:8080/"
        },
        "id": "8kMoUMK1YgZX",
        "outputId": "99cf738a-5898-4adb-a11e-691a523d9734"
      },
      "execution_count": null,
      "outputs": [
        {
          "output_type": "stream",
          "name": "stdout",
          "text": [
            "1\n",
            "2\n",
            "3\n",
            "2\n"
          ]
        }
      ]
    },
    {
      "cell_type": "code",
      "source": [
        "piggy_bank = 0\n",
        "\n",
        "money = 10000\n",
        "piggy_bank += money\n",
        "\n",
        "print(f'지금 저금통에 {money}원 넣었습니다.')\n",
        "print(f'지금 저금통에는 {piggy_bank}원 있습니다.')\n",
        "\n",
        "snack = 2000\n",
        "piggy_bank -= snack\n",
        "print(f'저금통에서 스낵 구입비 {snack}원을 뺐습니다.')\n",
        "print(f'지금 저금통에는 {piggy_bank}원 있습니다.')"
      ],
      "metadata": {
        "colab": {
          "base_uri": "https://localhost:8080/"
        },
        "id": "PYIMbCfka4C5",
        "outputId": "18625c86-cfa5-4235-9eb6-d63ca8bdb123"
      },
      "execution_count": null,
      "outputs": [
        {
          "output_type": "stream",
          "name": "stdout",
          "text": [
            "지금 저금통에 10000원 넣었습니다.\n",
            "지금 저금통에는 10000원 있습니다.\n",
            "저금통에서 스낵 구입비 2000원을 뺐습니다.\n",
            "지금 저금통에는 8000원 있습니다.\n"
          ]
        }
      ]
    },
    {
      "cell_type": "code",
      "source": [
        "no = int(input('1~99  사이의 정수를 입력하세요 : '))\n",
        "\n",
        "print(f'십의 자리 : {no//10}')\n",
        "print(f'일의 자리 : {no%10}')"
      ],
      "metadata": {
        "colab": {
          "base_uri": "https://localhost:8080/"
        },
        "id": "UG_b5ggsdSTV",
        "outputId": "5fd96126-cc7a-44a3-8ad5-aa60542f009c"
      },
      "execution_count": null,
      "outputs": [
        {
          "output_type": "stream",
          "name": "stdout",
          "text": [
            "1~99  사이의 정수를 입력하세요 : 89\n",
            "십의 자리 : 8\n",
            "일의 자리 : 9\n"
          ]
        }
      ]
    },
    {
      "cell_type": "code",
      "source": [
        "no = int(input('초를 입력 하세요 :'))\n",
        "\n",
        "n1 = no//3600\n",
        "n2 = n1%600\n",
        "n3 = no%60\n",
        "\n",
        "print(f'변환 결과는 {n1}시간 {n2}분 {n3}초 입니다.')"
      ],
      "metadata": {
        "id": "WzEAo7dKgmh2",
        "colab": {
          "base_uri": "https://localhost:8080/"
        },
        "outputId": "2da9e5fc-41f9-4f40-eee7-a006544888b4"
      },
      "execution_count": 48,
      "outputs": [
        {
          "output_type": "stream",
          "name": "stdout",
          "text": [
            "초를 입력 하세요 :3690\n",
            "변환 결과는 1시간 1분 30초 입니다.\n"
          ]
        }
      ]
    },
    {
      "cell_type": "code",
      "source": [
        "no = int(input('사원 번호를 입력 하세요 :'))\n",
        "\n",
        "if(no%10 >6):\n",
        "  print('근무 시간은 오후 입니다.')\n",
        "else :\n",
        "  print('근무시간은 오전 입니다.')"
      ],
      "metadata": {
        "colab": {
          "base_uri": "https://localhost:8080/"
        },
        "id": "855hjDI7l7Wk",
        "outputId": "1aeeb9f0-0f1d-4f36-9f57-ca9677419f34"
      },
      "execution_count": 49,
      "outputs": [
        {
          "output_type": "stream",
          "name": "stdout",
          "text": [
            "사원 번호를 입력 하세요 :1255\n",
            "근무시간은 오전 입니다.\n"
          ]
        }
      ]
    },
    {
      "cell_type": "code",
      "source": [
        "print('한 박스에 20개의 라면을 담을 수 있습니다.')\n",
        "print('라면의 개수를 입력하시면 필요한 박스 수를 알려드립니다.\\n')\n",
        "\n",
        "no = int(input('라면 개수를 입력하세요 :'))\n",
        "\n",
        "if(no % 20 >0):\n",
        "  print(f'{no}개 라면을 담으려면 {no//20 + 1}박스가 필요합니다.')\n",
        "else:\n",
        "  print(f'{no}개 라면을 담으려면 {no//20}박스가 필요합니다.')\n"
      ],
      "metadata": {
        "colab": {
          "base_uri": "https://localhost:8080/"
        },
        "id": "W99A01gBmfc0",
        "outputId": "e4422429-c1d3-49de-b761-46c4ad9540f6"
      },
      "execution_count": 63,
      "outputs": [
        {
          "output_type": "stream",
          "name": "stdout",
          "text": [
            "한 박스에 20개의 라면을 담을 수 있습니다.\n",
            "라면의 개수를 입력하시면 필요한 박스 수를 알려드립니다.\n",
            "\n",
            "라면 개수를 입력하세요 :50\n",
            "50개 라면을 담으려면 3박스가 필요합니다.\n"
          ]
        }
      ]
    },
    {
      "cell_type": "code",
      "source": [
        "kr = float(input(' 국어 점수를 입력하세요 :'))\n",
        "eg = float(input(' 영어 점수를 입력하세요 :'))\n",
        "ma = float(input(' 수학 점수를 입력하세요 :'))\n",
        "\n",
        "average = (kr+eg+ma)/3\n",
        "\n",
        "if(average>81):\n",
        "  print(f'평균 점수는 {average}이고, 결과는 합격 입니다.')\n",
        "\n",
        "else:\n",
        "  print(f'평균 점수는 {average}이고, 결과는 불합격 입니다.')"
      ],
      "metadata": {
        "colab": {
          "base_uri": "https://localhost:8080/"
        },
        "id": "xXHeTdDwoIfb",
        "outputId": "dd678be5-3589-4440-dd1d-2497c5c25bd9"
      },
      "execution_count": 62,
      "outputs": [
        {
          "output_type": "stream",
          "name": "stdout",
          "text": [
            " 국어 점수를 입력하세요 :85\n",
            " 영어 점수를 입력하세요 :83\n",
            " 수학 점수를 입력하세요 :81\n",
            "평균 점수는 83.0이고, 결과는 합격 입니다.\n"
          ]
        }
      ]
    }
  ]
}